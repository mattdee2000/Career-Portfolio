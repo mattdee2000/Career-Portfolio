{
  "nbformat": 4,
  "nbformat_minor": 0,
  "metadata": {
    "colab": {
      "provenance": []
    },
    "kernelspec": {
      "name": "python3",
      "display_name": "Python 3"
    },
    "language_info": {
      "name": "python"
    }
  },
  "cells": [
    {
      "cell_type": "code",
      "execution_count": null,
      "metadata": {
        "colab": {
          "base_uri": "https://localhost:8080/"
        },
        "id": "7E7IE8JQ3cWN",
        "outputId": "229ce451-803e-44cb-9cb7-cfce7379c235"
      },
      "outputs": [
        {
          "output_type": "stream",
          "name": "stdout",
          "text": [
            "Epoch 1/10\n",
            "\u001b[1m375/375\u001b[0m \u001b[32m━━━━━━━━━━━━━━━━━━━━\u001b[0m\u001b[37m\u001b[0m \u001b[1m12s\u001b[0m 28ms/step - accuracy: 0.8664 - loss: 0.4220 - val_accuracy: 0.9672 - val_loss: 0.1156\n",
            "Epoch 2/10\n",
            "\u001b[1m375/375\u001b[0m \u001b[32m━━━━━━━━━━━━━━━━━━━━\u001b[0m\u001b[37m\u001b[0m \u001b[1m21s\u001b[0m 28ms/step - accuracy: 0.9689 - loss: 0.1013 - val_accuracy: 0.9708 - val_loss: 0.0953\n",
            "Epoch 3/10\n",
            "\u001b[1m375/375\u001b[0m \u001b[32m━━━━━━━━━━━━━━━━━━━━\u001b[0m\u001b[37m\u001b[0m \u001b[1m10s\u001b[0m 27ms/step - accuracy: 0.9769 - loss: 0.0720 - val_accuracy: 0.9703 - val_loss: 0.1041\n",
            "Epoch 4/10\n",
            "\u001b[1m375/375\u001b[0m \u001b[32m━━━━━━━━━━━━━━━━━━━━\u001b[0m\u001b[37m\u001b[0m \u001b[1m9s\u001b[0m 23ms/step - accuracy: 0.9815 - loss: 0.0548 - val_accuracy: 0.9760 - val_loss: 0.0790\n",
            "Epoch 5/10\n",
            "\u001b[1m375/375\u001b[0m \u001b[32m━━━━━━━━━━━━━━━━━━━━\u001b[0m\u001b[37m\u001b[0m \u001b[1m10s\u001b[0m 27ms/step - accuracy: 0.9877 - loss: 0.0398 - val_accuracy: 0.9763 - val_loss: 0.0816\n",
            "Epoch 6/10\n",
            "\u001b[1m375/375\u001b[0m \u001b[32m━━━━━━━━━━━━━━━━━━━━\u001b[0m\u001b[37m\u001b[0m \u001b[1m11s\u001b[0m 28ms/step - accuracy: 0.9886 - loss: 0.0343 - val_accuracy: 0.9775 - val_loss: 0.0759\n",
            "Epoch 7/10\n",
            "\u001b[1m375/375\u001b[0m \u001b[32m━━━━━━━━━━━━━━━━━━━━\u001b[0m\u001b[37m\u001b[0m \u001b[1m19s\u001b[0m 22ms/step - accuracy: 0.9902 - loss: 0.0309 - val_accuracy: 0.9778 - val_loss: 0.0793\n",
            "Epoch 8/10\n",
            "\u001b[1m375/375\u001b[0m \u001b[32m━━━━━━━━━━━━━━━━━━━━\u001b[0m\u001b[37m\u001b[0m \u001b[1m12s\u001b[0m 27ms/step - accuracy: 0.9904 - loss: 0.0297 - val_accuracy: 0.9772 - val_loss: 0.0891\n",
            "Epoch 9/10\n",
            "\u001b[1m375/375\u001b[0m \u001b[32m━━━━━━━━━━━━━━━━━━━━\u001b[0m\u001b[37m\u001b[0m \u001b[1m20s\u001b[0m 26ms/step - accuracy: 0.9911 - loss: 0.0282 - val_accuracy: 0.9783 - val_loss: 0.0802\n",
            "Epoch 10/10\n",
            "\u001b[1m375/375\u001b[0m \u001b[32m━━━━━━━━━━━━━━━━━━━━\u001b[0m\u001b[37m\u001b[0m \u001b[1m9s\u001b[0m 25ms/step - accuracy: 0.9918 - loss: 0.0244 - val_accuracy: 0.9805 - val_loss: 0.0721\n",
            "\u001b[1m313/313\u001b[0m \u001b[32m━━━━━━━━━━━━━━━━━━━━\u001b[0m\u001b[37m\u001b[0m \u001b[1m1s\u001b[0m 4ms/step - accuracy: 0.9788 - loss: 0.0693\n",
            "Test accuracy: 0.9818000197410583\n"
          ]
        }
      ],
      "source": [
        "import tensorflow as tf\n",
        "from tensorflow.keras import layers, models\n",
        "\n",
        "# 1. Load and prepare the dataset\n",
        "(x_train, y_train), (x_test, y_test) = tf.keras.datasets.mnist.load_data()\n",
        "\n",
        "# Flatten the 28x28 images into 1D vectors of size 784\n",
        "x_train = x_train.reshape((x_train.shape[0], 28 * 28)).astype('float32') / 255\n",
        "x_test = x_test.reshape((x_test.shape[0], 28 * 28)).astype('float32') / 255\n",
        "\n",
        "# Convert labels to one-hot encoding\n",
        "y_train = tf.keras.utils.to_categorical(y_train, 10)\n",
        "y_test = tf.keras.utils.to_categorical(y_test, 10)\n",
        "\n",
        "# 2. Define the MLP model\n",
        "model = models.Sequential()\n",
        "model.add(layers.Dense(512, activation='relu', kernel_initializer='he_normal', input_shape=(28 * 28,)))\n",
        "model.add(layers.BatchNormalization())  # Batch Normalization\n",
        "model.add(layers.Dropout(0.2))  # Regularization to prevent overfitting\n",
        "model.add(layers.Dense(512, kernel_initializer='he_normal',activation='relu'))\n",
        "model.add(layers.BatchNormalization())  # Batch Normalization\n",
        "model.add(layers.LeakyReLU(alpha=0.2))\n",
        "model.add(layers.Dropout(0.2))\n",
        "model.add(layers.Dense(10,activation='softmax'))  # Output layer for 10 classes\n",
        "\n",
        "# 3. Compile the model\n",
        "model.compile(optimizer='adam',\n",
        "              loss='categorical_crossentropy',\n",
        "              metrics=['accuracy'])\n",
        "\n",
        "# 4. Train the model\n",
        "history = model.fit(x_train, y_train, epochs=10, batch_size=128, validation_split=0.2)\n",
        "\n",
        "# 5. Evaluate the model\n",
        "test_loss, test_acc = model.evaluate(x_test, y_test)\n",
        "print(f'Test accuracy: {test_acc}')\n"
      ]
    },
    {
      "cell_type": "code",
      "source": [
        "model.save('my_first_model.h5')\n",
        "import tensorflow as tf\n",
        "from tensorflow.keras.models import clone_model, load_model\n",
        "from tensorflow.keras import layers, models\n",
        "from tensorflow.keras.datasets import fashion_mnist\n",
        "\n",
        "# Load the original model\n",
        "original_model = load_model('my_first_model.h5')\n",
        "\n",
        "# Clone the model\n",
        "cloned_model = clone_model(original_model)\n",
        "cloned_model.set_weights(original_model.get_weights())\n",
        "\n",
        "# Remove the last layer (output layer) from the cloned model\n",
        "cloned_model.layers.pop()\n",
        "\n",
        "# Rebuild the model by adding a Flatten layer and a new output layer\n",
        "new_model = models.Sequential()\n",
        "\n",
        "# Add a Flatten layer to convert the 28x28 images into 1D vectors of size 784\n",
        "new_model.add(layers.Flatten(input_shape=(28, 28)))\n",
        "\n",
        "# Add the rest of the layers from the cloned model\n",
        "for layer in cloned_model.layers:\n",
        "    new_model.add(layer)\n",
        "\n",
        "# Optionally, freeze the layers\n",
        "for layer in new_model.layers:\n",
        "    layer.trainable = True  # You can make the layers trainable if needed\n",
        "\n",
        "# Add a new output layer for Fashion MNIST (10 classes)\n",
        "new_model.add(layers.Dense(10, activation='softmax'))\n",
        "\n",
        "# Compile the new model\n",
        "new_model.compile(optimizer='adam', loss='sparse_categorical_crossentropy', metrics=['accuracy'])\n",
        "\n",
        "# Load the Fashion MNIST dataset\n",
        "(train2, label_train2), (test2, label_test2) = fashion_mnist.load_data()\n",
        "\n",
        "# Normalize the data\n",
        "train2 = train2.astype('float32') / 255.0\n",
        "test2 = test2.astype('float32') / 255.0\n",
        "\n",
        "# Train the new model on Fashion MNIST (optional)\n",
        "new_model.fit(train2, label_train2, epochs=10, batch_size=128, validation_split=0.2)\n",
        "\n",
        "# Evaluate the model on the Fashion MNIST test set\n",
        "test_loss, test_acc = new_model.evaluate(test2, label_test2)\n",
        "print(f'Fashion MNIST Test accuracy: {test_acc}')\n",
        "\n",
        "# Example of making predictions on the Fashion MNIST test set\n",
        "predictions = new_model.predict(test2)\n",
        "\n",
        "# Output the predicted class for the first image in test2\n",
        "import numpy as np\n",
        "predicted_class = np.argmax(predictions[0])\n",
        "print(f'Predicted class for the first Fashion MNIST test2 image: {predicted_class}')\n"
      ],
      "metadata": {
        "colab": {
          "base_uri": "https://localhost:8080/"
        },
        "id": "f2i-lOdKYVXH",
        "outputId": "ffd22277-3457-4d39-a3af-e0e62fd1b3df"
      },
      "execution_count": null,
      "outputs": [
        {
          "output_type": "stream",
          "name": "stderr",
          "text": [
            "WARNING:absl:You are saving your model as an HDF5 file via `model.save()` or `keras.saving.save_model(model)`. This file format is considered legacy. We recommend using instead the native Keras format, e.g. `model.save('my_model.keras')` or `keras.saving.save_model(model, 'my_model.keras')`. \n",
            "WARNING:absl:Compiled the loaded model, but the compiled metrics have yet to be built. `model.compile_metrics` will be empty until you train or evaluate the model.\n"
          ]
        },
        {
          "output_type": "stream",
          "name": "stdout",
          "text": [
            "Epoch 1/10\n",
            "\u001b[1m375/375\u001b[0m \u001b[32m━━━━━━━━━━━━━━━━━━━━\u001b[0m\u001b[37m\u001b[0m \u001b[1m12s\u001b[0m 24ms/step - accuracy: 0.4138 - loss: 1.9432 - val_accuracy: 0.6014 - val_loss: 1.5649\n",
            "Epoch 2/10\n",
            "\u001b[1m375/375\u001b[0m \u001b[32m━━━━━━━━━━━━━━━━━━━━\u001b[0m\u001b[37m\u001b[0m \u001b[1m10s\u001b[0m 27ms/step - accuracy: 0.5941 - loss: 1.4912 - val_accuracy: 0.5932 - val_loss: 1.2999\n",
            "Epoch 3/10\n",
            "\u001b[1m375/375\u001b[0m \u001b[32m━━━━━━━━━━━━━━━━━━━━\u001b[0m\u001b[37m\u001b[0m \u001b[1m20s\u001b[0m 26ms/step - accuracy: 0.6126 - loss: 1.2290 - val_accuracy: 0.6141 - val_loss: 1.1101\n",
            "Epoch 4/10\n",
            "\u001b[1m375/375\u001b[0m \u001b[32m━━━━━━━━━━━━━━━━━━━━\u001b[0m\u001b[37m\u001b[0m \u001b[1m9s\u001b[0m 22ms/step - accuracy: 0.6174 - loss: 1.0696 - val_accuracy: 0.6141 - val_loss: 1.0145\n",
            "Epoch 5/10\n",
            "\u001b[1m375/375\u001b[0m \u001b[32m━━━━━━━━━━━━━━━━━━━━\u001b[0m\u001b[37m\u001b[0m \u001b[1m10s\u001b[0m 27ms/step - accuracy: 0.6236 - loss: 0.9624 - val_accuracy: 0.6368 - val_loss: 0.9340\n",
            "Epoch 6/10\n",
            "\u001b[1m375/375\u001b[0m \u001b[32m━━━━━━━━━━━━━━━━━━━━\u001b[0m\u001b[37m\u001b[0m \u001b[1m20s\u001b[0m 25ms/step - accuracy: 0.6489 - loss: 0.8926 - val_accuracy: 0.6514 - val_loss: 0.8674\n",
            "Epoch 7/10\n",
            "\u001b[1m375/375\u001b[0m \u001b[32m━━━━━━━━━━━━━━━━━━━━\u001b[0m\u001b[37m\u001b[0m \u001b[1m10s\u001b[0m 23ms/step - accuracy: 0.6636 - loss: 0.8402 - val_accuracy: 0.7309 - val_loss: 0.8031\n",
            "Epoch 8/10\n",
            "\u001b[1m375/375\u001b[0m \u001b[32m━━━━━━━━━━━━━━━━━━━━\u001b[0m\u001b[37m\u001b[0m \u001b[1m12s\u001b[0m 28ms/step - accuracy: 0.7239 - loss: 0.7797 - val_accuracy: 0.7428 - val_loss: 0.7363\n",
            "Epoch 9/10\n",
            "\u001b[1m375/375\u001b[0m \u001b[32m━━━━━━━━━━━━━━━━━━━━\u001b[0m\u001b[37m\u001b[0m \u001b[1m11s\u001b[0m 30ms/step - accuracy: 0.7425 - loss: 0.7047 - val_accuracy: 0.7544 - val_loss: 0.6735\n",
            "Epoch 10/10\n",
            "\u001b[1m375/375\u001b[0m \u001b[32m━━━━━━━━━━━━━━━━━━━━\u001b[0m\u001b[37m\u001b[0m \u001b[1m18s\u001b[0m 24ms/step - accuracy: 0.7664 - loss: 0.6483 - val_accuracy: 0.7668 - val_loss: 0.6443\n",
            "\u001b[1m313/313\u001b[0m \u001b[32m━━━━━━━━━━━━━━━━━━━━\u001b[0m\u001b[37m\u001b[0m \u001b[1m2s\u001b[0m 7ms/step - accuracy: 0.7570 - loss: 0.6676\n",
            "Fashion MNIST Test accuracy: 0.7516999840736389\n",
            "\u001b[1m313/313\u001b[0m \u001b[32m━━━━━━━━━━━━━━━━━━━━\u001b[0m\u001b[37m\u001b[0m \u001b[1m1s\u001b[0m 4ms/step\n",
            "Predicted class for the first Fashion MNIST test2 image: 9\n"
          ]
        }
      ]
    },
    {
      "cell_type": "code",
      "source": [
        "import numpy as np\n",
        "import matplotlib.pyplot as plt\n",
        "\n",
        "# 1. Select a random test sample\n",
        "random_index = np.random.randint(0, x_test.shape[0])  # Randomly select an index from the test set\n",
        "random_test_image = x_test[random_index].reshape(1, 28 * 28)  # Reshape it to match the input shape of the model\n",
        "\n",
        "# 2. Get the model's prediction\n",
        "predicted_probabilities = model.predict(random_test_image)\n",
        "\n",
        "# 3. Convert the prediction to the class label (digit)\n",
        "predicted_digit = np.argmax(predicted_probabilities)  # Get the class with the highest probability\n",
        "\n",
        "# 4. Output the prediction\n",
        "print(f\"Model prediction: {predicted_digit}\")\n",
        "\n",
        "# 5. Plot the image for visual confirmation\n",
        "plt.imshow(x_test[random_index].reshape(28, 28), cmap='gray')\n",
        "plt.title(f'Actual label: {np.argmax(y_test[random_index])}, Predicted: {predicted_digit}')\n",
        "plt.show()\n"
      ],
      "metadata": {
        "colab": {
          "base_uri": "https://localhost:8080/",
          "height": 488
        },
        "id": "gjrai-g33hQs",
        "outputId": "60cc0048-6c8f-4ee4-8637-e66c92e425c1"
      },
      "execution_count": null,
      "outputs": [
        {
          "output_type": "stream",
          "name": "stdout",
          "text": [
            "\u001b[1m1/1\u001b[0m \u001b[32m━━━━━━━━━━━━━━━━━━━━\u001b[0m\u001b[37m\u001b[0m \u001b[1m0s\u001b[0m 91ms/step\n",
            "Model prediction: 7\n"
          ]
        },
        {
          "output_type": "display_data",
          "data": {
            "text/plain": [
              "<Figure size 640x480 with 1 Axes>"
            ],
            "image/png": "[encoded data removed]"
          },
          "metadata": {}
        }
      ]
    }
  ]
}